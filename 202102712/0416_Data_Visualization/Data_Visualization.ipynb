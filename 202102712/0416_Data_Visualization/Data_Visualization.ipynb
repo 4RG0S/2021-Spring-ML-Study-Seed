{
  "nbformat": 4,
  "nbformat_minor": 0,
  "metadata": {
    "colab": {
      "name": "Data_Visualization.ipynb",
      "provenance": [],
      "collapsed_sections": [
        "pj_tSrtFVkB7",
        "yY5lRJOjTw9y",
        "ZTB09niZVteq",
        "yknp1PnKWMlr"
      ]
    },
    "kernelspec": {
      "name": "python3",
      "display_name": "Python 3"
    },
    "language_info": {
      "name": "python"
    }
  },
  "cells": [
    {
      "cell_type": "markdown",
      "metadata": {
        "id": "nUKTrmrCK62Z"
      },
      "source": [
        "# **데이터 시각화**\n",
        "\n",
        "## 1. 어떤 Feature를 대상으로 시각화를 진행해야할까?\n",
        "\n",
        "당연한 이야기지만, '결과'에 관련이 있는 Feature를 대상으로 분석 후에,<br>\n",
        "해당 그래프에서 가장 최적화된 머신러닝 알고리즘을 사용.\n",
        "<br>\n",
        "예\n",
        "<br>\n",
        " * 선형회귀\n",
        " * 로지스틱회귀\n",
        " * 의사결정나무\n",
        " * DNN\n",
        " * 등..\n",
        "<br>\n",
        "\n",
        "## 2. 데이터의 Feature 목록\n",
        "\n",
        "* PassengerId         : 승객의 ID.\n",
        "* Survival            : 핵심 데이터. (살았다, 죽었다) 즉 0, 1 의 데이터가 존재.\n",
        "* Pclass              : 등실의 등급\n",
        "* Name                : 승객의 이름\n",
        "* Sex                 : 성별\n",
        "* Age                 : 나이\n",
        "* Sibsp               : 함께 탑승한 형제자매, 아내, 남편의 수\n",
        "* Parch               : 함께 탑승한 부모, 자식의 수\n",
        "* Ticket              : 티켓번호\n",
        "* Fare                : 티켓의 요금\n",
        "* Cabin               : 객실번호 \n",
        "* Embarked            : 배에 탑승한 위치 (C = Cherbourg, Q = Queenstown, S = Southampton)\n",
        "\n",
        "\n",
        "### 참고. Embarked에 대하여\n",
        "\n",
        "처음에는 승객이 배에 타고 있는 위치를 이야기하는 줄 알았는데, 어느 지역에서 탔는지에 대한 내용이었습니다.\n",
        "\n",
        "Cherbourg     : 셰르부르옥트빌 (프랑스 북부 바스노르망디 지방에 있는 항구도시)\n",
        "\n",
        "Queenstown    : 뉴질랜드 남섬의 도시\n",
        "\n",
        "Southampton   : 영국의 사우스햄튼 (사우스햄튼 FC 프로 축구팀의 연고지로도 유명하다.)\n",
        "\n",
        "### 3. 결과적으로 제가 의미있을 거란 생각한 Feature\n",
        "\n",
        "* Survival    : 이건 꼭 필요하기 때문!\n",
        "* Pclass      : 등실의 등급이 올라갈 수록 티켓 값은 비싸집니다! 그러면 부유한 사람이 먼저 살아남지 않았을까요?\n",
        "* Sex         : 아무래도 태평양 한 가운데서 바다 수영을 하기 위해선 기본적인 체력이 어느정도 있는 남자가 더 많이 살아남지 않았을까요?\n",
        "* Age         : 나이가 어릴수록 팔팔(?) 합니다! 나이가 어린 사람이 살아남지 않았을까요?\n",
        "* Fare        : Pclass와 같은 이유입니다! 부유한 사람이 많이 살아남지 않았을까요?\n",
        "\n",
        "나머지 Sibsp, Parch도 충분히 관련이 있다고 생각했습니다. (부모님이 자식을 구하고 사망 등의 시나리오를 생각해 볼 수 있었습니다.) 하지만 위의 데이터를 Survival 과 비교해본 뒤에, 다시 비교해보기로 하였습니다.\n"
      ]
    },
    {
      "cell_type": "markdown",
      "metadata": {
        "id": "zWdDQ4IVTDWZ"
      },
      "source": [
        "# 1. 2D 그래프로 보기 (Survival과 비교)"
      ]
    },
    {
      "cell_type": "markdown",
      "metadata": {
        "id": "qoKlebZJU7xw"
      },
      "source": [
        "## 필요한 모듈 Import 하기"
      ]
    },
    {
      "cell_type": "code",
      "metadata": {
        "id": "ioWf2cj5U8HZ"
      },
      "source": [
        "import pandas as pd"
      ],
      "execution_count": 2,
      "outputs": []
    },
    {
      "cell_type": "markdown",
      "metadata": {
        "id": "9_68Bxz9UC3J"
      },
      "source": [
        "## 클라우드 마운트하기"
      ]
    },
    {
      "cell_type": "code",
      "metadata": {
        "colab": {
          "base_uri": "https://localhost:8080/"
        },
        "id": "9Ave-j8UUF1w",
        "outputId": "ff65b410-65fd-435b-a29d-ceaa09ed36ea"
      },
      "source": [
        "from google.colab import drive\n",
        "drive.mount('/content/drive')"
      ],
      "execution_count": 4,
      "outputs": [
        {
          "output_type": "stream",
          "text": [
            "Mounted at /content/drive\n"
          ],
          "name": "stdout"
        }
      ]
    },
    {
      "cell_type": "markdown",
      "metadata": {
        "id": "5V-ehWBhUQpR"
      },
      "source": [
        "## 데이터 불러오기"
      ]
    },
    {
      "cell_type": "code",
      "metadata": {
        "id": "DwbK23OTUXcR"
      },
      "source": [
        "train = pd.read_csv('/content/drive/MyDrive/titanic/train.csv')"
      ],
      "execution_count": 5,
      "outputs": []
    },
    {
      "cell_type": "markdown",
      "metadata": {
        "id": "0nCWT9anUBOR"
      },
      "source": [
        "## Survival과 Pclass (부유함과 생존은 상관관계가 존재하는가?)"
      ]
    },
    {
      "cell_type": "markdown",
      "metadata": {
        "id": "pj_tSrtFVkB7"
      },
      "source": [
        "### 1. 산점도로 확인"
      ]
    },
    {
      "cell_type": "code",
      "metadata": {
        "colab": {
          "base_uri": "https://localhost:8080/",
          "height": 297
        },
        "id": "n3U-uYuOK6Ft",
        "outputId": "1f996e29-96a6-4041-f13e-eedc585a6bce"
      },
      "source": [
        "train.plot(x = 'Survived', y = 'Pclass', kind = 'scatter')"
      ],
      "execution_count": null,
      "outputs": [
        {
          "output_type": "execute_result",
          "data": {
            "text/plain": [
              "<matplotlib.axes._subplots.AxesSubplot at 0x7f76a103ff10>"
            ]
          },
          "metadata": {
            "tags": []
          },
          "execution_count": 5
        },
        {
          "output_type": "display_data",
          "data": {
            "image/png": "[encoded data removed]",
            "text/plain": [
              "<Figure size 432x288 with 1 Axes>"
            ]
          },
          "metadata": {
            "tags": [],
            "needs_background": "light"
          }
        }
      ]
    },
    {
      "cell_type": "markdown",
      "metadata": {
        "id": "Gpkkn42mVx4h"
      },
      "source": [
        "확인 결과 부유함과 생존은 큰 상관관계가 존재하지 않았습니다. 모두 고르게 분포(고르게 분포되어 있는지 확인할 수 없는 그래프이긴 하지만) 하고 있었습니다."
      ]
    },
    {
      "cell_type": "markdown",
      "metadata": {
        "id": "yY5lRJOjTw9y"
      },
      "source": [
        "## Survival과 Sex (성별과 생존은 상관관계가 존재하는가?)"
      ]
    },
    {
      "cell_type": "markdown",
      "metadata": {
        "id": "ZTB09niZVteq"
      },
      "source": [
        "### 1. 산점도로 확인"
      ]
    },
    {
      "cell_type": "code",
      "metadata": {
        "colab": {
          "base_uri": "https://localhost:8080/",
          "height": 297
        },
        "id": "ob92XllcT2Hg",
        "outputId": "a61d878d-c231-4ff5-f8c0-4a946249a0b4"
      },
      "source": [
        "train.plot(x = 'Survived', y = 'Sex', kind = 'scatter')"
      ],
      "execution_count": null,
      "outputs": [
        {
          "output_type": "execute_result",
          "data": {
            "text/plain": [
              "<matplotlib.axes._subplots.AxesSubplot at 0x7f76a0b93210>"
            ]
          },
          "metadata": {
            "tags": []
          },
          "execution_count": 6
        },
        {
          "output_type": "display_data",
          "data": {
            "image/png": "[encoded data removed]",
            "text/plain": [
              "<Figure size 432x288 with 1 Axes>"
            ]
          },
          "metadata": {
            "tags": [],
            "needs_background": "light"
          }
        }
      ]
    },
    {
      "cell_type": "markdown",
      "metadata": {
        "id": "ijIDMVRjT2V4"
      },
      "source": [
        "## Survival과 Age (나이와 생존은 상관관계가 존재하는가?)"
      ]
    },
    {
      "cell_type": "markdown",
      "metadata": {
        "id": "2zSuoXhuVui4"
      },
      "source": [
        "### 1. 산점도로 확인"
      ]
    },
    {
      "cell_type": "code",
      "metadata": {
        "colab": {
          "base_uri": "https://localhost:8080/",
          "height": 172
        },
        "id": "0zoXf5B-T6gA",
        "outputId": "e1a3bf62-c692-415a-cfa2-0fc6a55becf7"
      },
      "source": [
        "train.plot(x = 'Age', y = 'Survived', kind = 'scatter')"
      ],
      "execution_count": null,
      "outputs": [
        {
          "output_type": "error",
          "ename": "NameError",
          "evalue": "ignored",
          "traceback": [
            "\u001b[0;31m---------------------------------------------------------------------------\u001b[0m",
            "\u001b[0;31mNameError\u001b[0m                                 Traceback (most recent call last)",
            "\u001b[0;32m<ipython-input-2-ff9957ca7717>\u001b[0m in \u001b[0;36m<module>\u001b[0;34m()\u001b[0m\n\u001b[0;32m----> 1\u001b[0;31m \u001b[0mtrain\u001b[0m\u001b[0;34m.\u001b[0m\u001b[0mplot\u001b[0m\u001b[0;34m(\u001b[0m\u001b[0mx\u001b[0m \u001b[0;34m=\u001b[0m \u001b[0;34m'Age'\u001b[0m\u001b[0;34m,\u001b[0m \u001b[0my\u001b[0m \u001b[0;34m=\u001b[0m \u001b[0;34m'Survived'\u001b[0m\u001b[0;34m,\u001b[0m \u001b[0mkind\u001b[0m \u001b[0;34m=\u001b[0m \u001b[0;34m'scatter'\u001b[0m\u001b[0;34m)\u001b[0m\u001b[0;34m\u001b[0m\u001b[0;34m\u001b[0m\u001b[0m\n\u001b[0m",
            "\u001b[0;31mNameError\u001b[0m: name 'train' is not defined"
          ]
        }
      ]
    },
    {
      "cell_type": "markdown",
      "metadata": {
        "id": "W9PH0Oi7GKa2"
      },
      "source": [
        ""
      ]
    },
    {
      "cell_type": "markdown",
      "metadata": {
        "id": "8NENhP86T6xh"
      },
      "source": [
        "## Survival과 Fare (부유함과 생존은 상관관계가 존재하는가?)"
      ]
    },
    {
      "cell_type": "markdown",
      "metadata": {
        "id": "8hrc6cAvVvW5"
      },
      "source": [
        "### 1. 산점도로 확인"
      ]
    },
    {
      "cell_type": "code",
      "metadata": {
        "colab": {
          "base_uri": "https://localhost:8080/",
          "height": 297
        },
        "id": "oIa11Jb2U2xx",
        "outputId": "119f8097-4120-4dd2-9337-96c197b7383b"
      },
      "source": [
        "train.plot(x = 'Fare', y = 'Survived', kind = 'scatter')"
      ],
      "execution_count": 6,
      "outputs": [
        {
          "output_type": "execute_result",
          "data": {
            "text/plain": [
              "<matplotlib.axes._subplots.AxesSubplot at 0x7f7117a69fd0>"
            ]
          },
          "metadata": {
            "tags": []
          },
          "execution_count": 6
        },
        {
          "output_type": "display_data",
          "data": {
            "image/png": "[encoded data removed]",
            "text/plain": [
              "<Figure size 432x288 with 1 Axes>"
            ]
          },
          "metadata": {
            "tags": [],
            "needs_background": "light"
          }
        }
      ]
    },
    {
      "cell_type": "markdown",
      "metadata": {
        "id": "2-mEJnN-V8aB"
      },
      "source": [
        "확인 결과 부유함과 관련없이 넓게 사망자와 생존자가 분류되는 모습을 확인할 수 있습니다."
      ]
    },
    {
      "cell_type": "markdown",
      "metadata": {
        "id": "yknp1PnKWMlr"
      },
      "source": [
        "## Survival과 승객 ID"
      ]
    },
    {
      "cell_type": "code",
      "metadata": {
        "colab": {
          "base_uri": "https://localhost:8080/",
          "height": 297
        },
        "id": "j3pm4DpEWSPR",
        "outputId": "0a3a9dfb-8f01-41d7-d56c-c49156c1cb4d"
      },
      "source": [
        "train.plot(x = 'PassengerId', y = 'Survived', kind = 'scatter')"
      ],
      "execution_count": null,
      "outputs": [
        {
          "output_type": "execute_result",
          "data": {
            "text/plain": [
              "<matplotlib.axes._subplots.AxesSubplot at 0x7f76a09c11d0>"
            ]
          },
          "metadata": {
            "tags": []
          },
          "execution_count": 10
        },
        {
          "output_type": "display_data",
          "data": {
            "image/png": "[encoded data removed]",
            "text/plain": [
              "<Figure size 432x288 with 1 Axes>"
            ]
          },
          "metadata": {
            "tags": [],
            "needs_background": "light"
          }
        }
      ]
    },
    {
      "cell_type": "markdown",
      "metadata": {
        "id": "sOZeftYlWrip"
      },
      "source": [
        "## 실험 결과 \n",
        "기존에 있던 데이터를 그대로 사용하여 분석하는 방향으로는 제대로 된 분석이 불가능합니다. 따라서 우리는 가지고 있는 데이터를 가공하여 정보, 나이가서 인텔리전스로 바꿔나가는 방향을 추구해야합니다."
      ]
    },
    {
      "cell_type": "markdown",
      "metadata": {
        "id": "FE4uCtlwW7fR"
      },
      "source": [
        "# 데이터 가공해보기"
      ]
    },
    {
      "cell_type": "markdown",
      "metadata": {
        "id": "7r5JathIXIkB"
      },
      "source": [
        "## 1. 어떻게 가공할 것인가?\n",
        "\n",
        "### 가설 1.\n",
        "살아남은 집단과 살아남지 못한 집단을 구분.\n",
        "그리고 아까 했듯이 비율을 따져서 비교."
      ]
    },
    {
      "cell_type": "code",
      "metadata": {
        "colab": {
          "base_uri": "https://localhost:8080/",
          "height": 1000
        },
        "id": "NNR8E8YAYVih",
        "outputId": "c57361d6-8f0d-4f56-8ebd-2eaebed8bbb2"
      },
      "source": [
        "is_survived_people = train['Survived'] == 1\n",
        "is_unsurvived_people = train['Survived'] == 0\n",
        " \n",
        "survived_people = train[is_survived_people]\n",
        "unsurvived_people = train[is_unsurvived_people]\n",
        "\n",
        "surv_age = survived_people['Age']\n",
        "unsurv_age = unsurvived_people['Age']\n",
        "\n",
        "\n",
        "survived_people.plot(x = 'Survived',y = 'Age' ,kind = 'hist')\n",
        "\n",
        "age_temp = 0\n",
        "\n",
        "for i in surv_age:\n",
        "  if i == 'NaN' or i == 'nan':\n",
        "    pass\n",
        "  else:\n",
        "    age_temp += i\n",
        "\n",
        "print(age_temp / len(surv_age))\n",
        "\n",
        "unsurvived_people.plot(x = 'Survived', y = 'Age', kind = 'hist')\n",
        "print(unsurv_age)\n",
        "\n",
        "train.plot(x='Age', y='Survived', kind='scatter')"
      ],
      "execution_count": null,
      "outputs": [
        {
          "output_type": "stream",
          "text": [
            "nan\n",
            "0      22.0\n",
            "4      35.0\n",
            "5       NaN\n",
            "6      54.0\n",
            "7       2.0\n",
            "       ... \n",
            "884    25.0\n",
            "885    39.0\n",
            "886    27.0\n",
            "888     NaN\n",
            "890    32.0\n",
            "Name: Age, Length: 549, dtype: float64\n"
          ],
          "name": "stdout"
        },
        {
          "output_type": "execute_result",
          "data": {
            "text/plain": [
              "<matplotlib.axes._subplots.AxesSubplot at 0x7f7698b6d2d0>"
            ]
          },
          "metadata": {
            "tags": []
          },
          "execution_count": 54
        },
        {
          "output_type": "display_data",
          "data": {
            "image/png": "[encoded data removed]",
            "text/plain": [
              "<Figure size 432x288 with 1 Axes>"
            ]
          },
          "metadata": {
            "tags": [],
            "needs_background": "light"
          }
        },
        {
          "output_type": "display_data",
          "data": {
            "image/png": "[encoded data removed]",
            "text/plain": [
              "<Figure size 432x288 with 1 Axes>"
            ]
          },
          "metadata": {
            "tags": [],
            "needs_background": "light"
          }
        },
        {
          "output_type": "display_data",
          "data": {
            "image/png": "[encoded data removed]",
            "text/plain": [
              "<Figure size 432x288 with 1 Axes>"
            ]
          },
          "metadata": {
            "tags": [],
            "needs_background": "light"
          }
        }
      ]
    },
    {
      "cell_type": "code",
      "metadata": {
        "colab": {
          "base_uri": "https://localhost:8080/",
          "height": 297
        },
        "id": "H457XkV_bUlP",
        "outputId": "1f996e29-96a6-4041-f13e-eedc585a6bce"
      },
      "source": [
        "train.plot(x = 'Survived', y = 'Pclass', kind = 'scatter')"
      ],
      "execution_count": null,
      "outputs": [
        {
          "output_type": "execute_result",
          "data": {
            "text/plain": [
              "<matplotlib.axes._subplots.AxesSubplot at 0x7f76a103ff10>"
            ]
          },
          "metadata": {
            "tags": []
          },
          "execution_count": 5
        },
        {
          "output_type": "display_data",
          "data": {
            "image/png": "[encoded data removed]",
            "text/plain": [
              "<Figure size 432x288 with 1 Axes>"
            ]
          },
          "metadata": {
            "tags": [],
            "needs_background": "light"
          }
        }
      ]
    },
    {
      "cell_type": "code",
      "metadata": {
        "colab": {
          "base_uri": "https://localhost:8080/",
          "height": 283
        },
        "id": "VTkaIErQatFx",
        "outputId": "dffe0106-e7ab-43c7-e1d0-92a085c81cb7"
      },
      "source": [
        "train['Survived'].plot(y = 'Age',kind = 'hist', bins=30)"
      ],
      "execution_count": null,
      "outputs": [
        {
          "output_type": "execute_result",
          "data": {
            "text/plain": [
              "<matplotlib.axes._subplots.AxesSubplot at 0x7f769c68a610>"
            ]
          },
          "metadata": {
            "tags": []
          },
          "execution_count": 30
        },
        {
          "output_type": "display_data",
          "data": {
            "image/png": "[encoded data removed]",
            "text/plain": [
              "<Figure size 432x288 with 1 Axes>"
            ]
          },
          "metadata": {
            "tags": [],
            "needs_background": "light"
          }
        }
      ]
    },
    {
      "cell_type": "markdown",
      "metadata": {
        "id": "PkQi-paeOtCL"
      },
      "source": [
        "# grouby 로 전체적인 분석"
      ]
    },
    {
      "cell_type": "code",
      "metadata": {
        "colab": {
          "base_uri": "https://localhost:8080/",
          "height": 142
        },
        "id": "ge0imWxlLTVr",
        "outputId": "7300e72a-f086-45b2-b298-2906104e2e9d"
      },
      "source": [
        "train.groupby('Survived').mean()"
      ],
      "execution_count": 7,
      "outputs": [
        {
          "output_type": "execute_result",
          "data": {
            "text/html": [
              "<div>\n",
              "<style scoped>\n",
              "    .dataframe tbody tr th:only-of-type {\n",
              "        vertical-align: middle;\n",
              "    }\n",
              "\n",
              "    .dataframe tbody tr th {\n",
              "        vertical-align: top;\n",
              "    }\n",
              "\n",
              "    .dataframe thead th {\n",
              "        text-align: right;\n",
              "    }\n",
              "</style>\n",
              "<table border=\"1\" class=\"dataframe\">\n",
              "  <thead>\n",
              "    <tr style=\"text-align: right;\">\n",
              "      <th></th>\n",
              "      <th>PassengerId</th>\n",
              "      <th>Pclass</th>\n",
              "      <th>Age</th>\n",
              "      <th>SibSp</th>\n",
              "      <th>Parch</th>\n",
              "      <th>Fare</th>\n",
              "    </tr>\n",
              "    <tr>\n",
              "      <th>Survived</th>\n",
              "      <th></th>\n",
              "      <th></th>\n",
              "      <th></th>\n",
              "      <th></th>\n",
              "      <th></th>\n",
              "      <th></th>\n",
              "    </tr>\n",
              "  </thead>\n",
              "  <tbody>\n",
              "    <tr>\n",
              "      <th>0</th>\n",
              "      <td>447.016393</td>\n",
              "      <td>2.531876</td>\n",
              "      <td>30.626179</td>\n",
              "      <td>0.553734</td>\n",
              "      <td>0.329690</td>\n",
              "      <td>22.117887</td>\n",
              "    </tr>\n",
              "    <tr>\n",
              "      <th>1</th>\n",
              "      <td>444.368421</td>\n",
              "      <td>1.950292</td>\n",
              "      <td>28.343690</td>\n",
              "      <td>0.473684</td>\n",
              "      <td>0.464912</td>\n",
              "      <td>48.395408</td>\n",
              "    </tr>\n",
              "  </tbody>\n",
              "</table>\n",
              "</div>"
            ],
            "text/plain": [
              "          PassengerId    Pclass        Age     SibSp     Parch       Fare\n",
              "Survived                                                                 \n",
              "0          447.016393  2.531876  30.626179  0.553734  0.329690  22.117887\n",
              "1          444.368421  1.950292  28.343690  0.473684  0.464912  48.395408"
            ]
          },
          "metadata": {
            "tags": []
          },
          "execution_count": 7
        }
      ]
    },
    {
      "cell_type": "markdown",
      "metadata": {
        "id": "MRVR0nW2Owri"
      },
      "source": [
        "살아남은 사람들의 평균적인 Fare가 높고, Age는 어리며 Pclass(좌석 등급) 또한 1등석에 가까운 것을 알 수 있음.\n",
        "\n",
        "즉, 주요 Feature는 Pclass, Age, SibSp, Fare이고,\n",
        "\n",
        "그 중에 Fare와 Age가 가장 차이가 크므로 핵심 Feature라고 짐작할 수 있다."
      ]
    },
    {
      "cell_type": "markdown",
      "metadata": {
        "id": "ZO-31RJbSsx4"
      },
      "source": [
        "# 두 번째 시도 : 승객 숫자 카운팅"
      ]
    },
    {
      "cell_type": "code",
      "metadata": {
        "id": "LEjqrP2yRfGa"
      },
      "source": [
        ""
      ],
      "execution_count": null,
      "outputs": []
    }
  ]
}