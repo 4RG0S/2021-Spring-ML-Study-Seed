{
  "nbformat": 4,
  "nbformat_minor": 0,
  "metadata": {
    "colab": {
      "name": "Binary_MNIST.ipynb",
      "provenance": [],
      "collapsed_sections": []
    },
    "kernelspec": {
      "name": "python3",
      "display_name": "Python 3"
    },
    "language_info": {
      "name": "python"
    }
  },
  "cells": [
    {
      "cell_type": "code",
      "metadata": {
        "id": "PXwDWSwRHOuS"
      },
      "source": [
        "import tensorflow as tf\n",
        "import numpy as np"
      ],
      "execution_count": 40,
      "outputs": []
    },
    {
      "cell_type": "markdown",
      "metadata": {
        "id": "RFGXReGtIrY1"
      },
      "source": [
        "# MNIST 데이터셋 불러오기 (0과 1 데이터만)\n",
        "\n"
      ]
    },
    {
      "cell_type": "code",
      "metadata": {
        "colab": {
          "base_uri": "https://localhost:8080/"
        },
        "id": "jgKAKljYHi5A",
        "outputId": "e4c7b9dc-2dcf-41ab-ed67-beae42c55698"
      },
      "source": [
        "(x_train, y_train), (x_test, y_test) = tf.keras.datasets.mnist.load_data()\n",
        "\n",
        "x_train, x_test = x_train/255.0, x_test/255.0 # 0~1 사이의 값을 갖도록 변경"
      ],
      "execution_count": 3,
      "outputs": [
        {
          "output_type": "stream",
          "text": [
            "Downloading data from https://storage.googleapis.com/tensorflow/tf-keras-datasets/mnist.npz\n",
            "11493376/11490434 [==============================] - 0s 0us/step\n"
          ],
          "name": "stdout"
        }
      ]
    },
    {
      "cell_type": "code",
      "metadata": {
        "id": "6WxvjfGOKawK"
      },
      "source": [
        "bin_x_train = x_train[np.where(y_train <= 1)]\n",
        "bin_y_train = y_train[(np.where(y_train <= 1))] \n",
        "\n",
        "bin_x_test = x_test[np.where(y_test < 2)]\n",
        "bin_y_test = y_test[(np.where(y_test < 2))] "
      ],
      "execution_count": 15,
      "outputs": []
    },
    {
      "cell_type": "markdown",
      "metadata": {
        "id": "rNcbXNpMIpqk"
      },
      "source": [
        "# 모델 정의"
      ]
    },
    {
      "cell_type": "code",
      "metadata": {
        "id": "HzJ2MqfVHv8V"
      },
      "source": [
        "model = tf.keras.models.Sequential([\n",
        "    tf.keras.layers.Flatten(input_shape=(28, 28)),\n",
        "    tf.keras.layers.Dense(128, activation='relu'),\n",
        "    tf.keras.layers.Dropout(0.2), # Overfitting 방지를 위한 Dropout\n",
        "    tf.keras.layers.Dense(2, activation='softmax') # 출력층. 0~ 1 까지 Classification 하므로 2개임.\n",
        "])"
      ],
      "execution_count": 25,
      "outputs": []
    },
    {
      "cell_type": "markdown",
      "metadata": {
        "id": "B6nq0a2fIni9"
      },
      "source": [
        "# 모델 컴파일"
      ]
    },
    {
      "cell_type": "code",
      "metadata": {
        "id": "tajtHlF2IS9d"
      },
      "source": [
        "model.compile(\n",
        "    optimizer='adam',\n",
        "    loss='sparse_categorical_crossentropy',\n",
        "    metrics=['accuracy']\n",
        ")"
      ],
      "execution_count": 26,
      "outputs": []
    },
    {
      "cell_type": "markdown",
      "metadata": {
        "id": "Ev8nk4a7IimV"
      },
      "source": [
        "# 모델 학습 및 테스트"
      ]
    },
    {
      "cell_type": "code",
      "metadata": {
        "colab": {
          "base_uri": "https://localhost:8080/"
        },
        "id": "HoSzdhvfIcQW",
        "outputId": "1d96b82a-d5d5-42cd-9f4d-ad82845f9a1e"
      },
      "source": [
        "model.fit(bin_x_train, bin_y_train, epochs=5)\n",
        "model.evaluate(bin_x_test, bin_y_test, verbose=2)"
      ],
      "execution_count": 27,
      "outputs": [
        {
          "output_type": "stream",
          "text": [
            "Epoch 1/5\n",
            "396/396 [==============================] - 1s 1ms/step - loss: 0.0473 - accuracy: 0.9837\n",
            "Epoch 2/5\n",
            "396/396 [==============================] - 0s 1ms/step - loss: 0.0029 - accuracy: 0.9991\n",
            "Epoch 3/5\n",
            "396/396 [==============================] - 0s 1ms/step - loss: 0.0019 - accuracy: 0.9995\n",
            "Epoch 4/5\n",
            "396/396 [==============================] - 1s 1ms/step - loss: 7.6500e-04 - accuracy: 0.9997\n",
            "Epoch 5/5\n",
            "396/396 [==============================] - 0s 1ms/step - loss: 0.0026 - accuracy: 0.9991\n",
            "67/67 - 0s - loss: 0.0059 - accuracy: 0.9981\n"
          ],
          "name": "stdout"
        },
        {
          "output_type": "execute_result",
          "data": {
            "text/plain": [
              "[0.005940592847764492, 0.9981087446212769]"
            ]
          },
          "metadata": {
            "tags": []
          },
          "execution_count": 27
        }
      ]
    },
    {
      "cell_type": "markdown",
      "metadata": {
        "id": "mIp0J3xwMxgs"
      },
      "source": [
        "# 훈련 데이터와 테스트 데이터가 0과 1로 이루어져있는지 확인"
      ]
    },
    {
      "cell_type": "code",
      "metadata": {
        "colab": {
          "base_uri": "https://localhost:8080/"
        },
        "id": "P5NS8TiYM1wL",
        "outputId": "017b23ba-5fb0-499e-b779-7076af0872dd"
      },
      "source": [
        "print(bin_y_train) # 훈련 데이터 라벨\n",
        "\n",
        "print(bin_y_test) # 테스트 데이터 라벨"
      ],
      "execution_count": 41,
      "outputs": [
        {
          "output_type": "stream",
          "text": [
            "[0 1 1 ... 1 0 1]\n",
            "[1 0 1 ... 1 0 1]\n"
          ],
          "name": "stdout"
        }
      ]
    }
  ]
}